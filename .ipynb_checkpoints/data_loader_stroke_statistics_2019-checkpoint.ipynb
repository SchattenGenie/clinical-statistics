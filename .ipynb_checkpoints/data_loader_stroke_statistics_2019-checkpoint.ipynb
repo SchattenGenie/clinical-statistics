{
 "cells": [
  {
   "cell_type": "code",
   "execution_count": 2,
   "metadata": {},
   "outputs": [
    {
     "name": "stdout",
     "output_type": "stream",
     "text": [
      "Populating the interactive namespace from numpy and matplotlib\n"
     ]
    }
   ],
   "source": [
    "import pandas as pd\n",
    "import numpy as np\n",
    "import pylab as plt\n",
    "import matplotlib.pyplot as plt\n",
    "import statsmodels.api as sm\n",
    "import scipy\n",
    "from scipy import stats\n",
    "import sklearn\n",
    "%pylab inline"
   ]
  },
  {
   "cell_type": "code",
   "execution_count": 9,
   "metadata": {},
   "outputs": [
    {
     "data": {
      "text/plain": [
       "(51, 51)"
      ]
     },
     "execution_count": 9,
     "metadata": {},
     "output_type": "execute_result"
    }
   ],
   "source": [
    "#  downloding the data for dataset creation\n",
    "df1=pd.read_csv('13.03.CLINIC_with_id.csv')\n",
    "df1=df1[(df1['Survey id']==3)] # after the first hospitalisation\n",
    "df1.drop_duplicates(subset='Patient id', keep='first',inplace=True)\n",
    "\n",
    "\n",
    "# choosing each second record for patient hospital check-out\n",
    "df2=pd.read_csv('13.03.CLINIC_with_id.csv',',')\n",
    "df2=df2[(df2['Survey id']==6)|(df2['Survey id']==12)] # \n",
    "df2.drop_duplicates(subset='Patient id', keep='last',inplace=True)\n",
    "\n",
    "\n",
    "# sorting values\n",
    "df1=df1.sort_values(['Patient id'])\n",
    "df2=df2.sort_values(['Patient id'])\n",
    "\n",
    "df1=df1.reset_index(drop=True)\n",
    "df2=df2.reset_index(drop=True)\n",
    "\n",
    "# 51 patient after first -df1 and second -df2 hospitalisation\n",
    "len(df1),len(df2)"
   ]
  },
  {
   "cell_type": "code",
   "execution_count": 12,
   "metadata": {},
   "outputs": [
    {
     "data": {
      "text/plain": [
       "3.0    27\n",
       "2.0    12\n",
       "4.0    11\n",
       "Name: Renk (выписка) ЦПРиН , dtype: int64"
      ]
     },
     "execution_count": 12,
     "metadata": {},
     "output_type": "execute_result"
    }
   ],
   "source": [
    "# after first hospitalisation (1-3 months post stroke)\n",
    "df1['Renk (выписка) ЦПРиН '].value_counts()"
   ]
  },
  {
   "cell_type": "code",
   "execution_count": 13,
   "metadata": {},
   "outputs": [
    {
     "data": {
      "text/plain": [
       "3.0    22\n",
       "2.0    17\n",
       "4.0    10\n",
       "6.0     2\n",
       "Name: Renk (выписка) ЦПРиН , dtype: int64"
      ]
     },
     "execution_count": 13,
     "metadata": {},
     "output_type": "execute_result"
    }
   ],
   "source": [
    "# after second hospitalisation (6-12 months post stroke)\n",
    "df2['Renk (выписка) ЦПРиН '].value_counts()"
   ]
  },
  {
   "cell_type": "code",
   "execution_count": 14,
   "metadata": {},
   "outputs": [
    {
     "data": {
      "text/plain": [
       "3.0    21\n",
       "2.0    19\n",
       "4.0     7\n",
       "6.0     2\n",
       "5.0     1\n",
       "1.0     1\n",
       "Name: Renk проверенный 12 мес , dtype: int64"
      ]
     },
     "execution_count": 14,
     "metadata": {},
     "output_type": "execute_result"
    }
   ],
   "source": [
    "# after second hospitalisation (12> months post stroke) \n",
    "\n",
    "# our feature to predict \n",
    "\n",
    "df2['Renk проверенный 12 мес '].value_counts()"
   ]
  },
  {
   "cell_type": "markdown",
   "metadata": {},
   "source": [
    "### Merging the datasets with MRI features"
   ]
  },
  {
   "cell_type": "code",
   "execution_count": 25,
   "metadata": {},
   "outputs": [],
   "source": [
    "# добавим данные по объему очага и Fasekas\n",
    "df3=pd.read_excel('14.11.2018_БАЗА  ДАННЫХ _ с данным ОО, FAZECOS на 21.11.2018 (!Меренков).xlsx', sheet_name='05-2018')"
   ]
  },
  {
   "cell_type": "code",
   "execution_count": 26,
   "metadata": {},
   "outputs": [],
   "source": [
    "df3.dropna(subset=['ФИО'], inplace= True)\n",
    "df3.dropna(subset=df3.columns[23:31],how='all', inplace=True)\n",
    "df3=df3.reset_index(drop=True)"
   ]
  },
  {
   "cell_type": "code",
   "execution_count": 27,
   "metadata": {},
   "outputs": [
    {
     "name": "stderr",
     "output_type": "stream",
     "text": [
      "/home/kate/anaconda3/lib/python3.7/site-packages/ipykernel_launcher.py:2: SettingWithCopyWarning: \n",
      "A value is trying to be set on a copy of a slice from a DataFrame\n",
      "\n",
      "See the caveats in the documentation: http://pandas.pydata.org/pandas-docs/stable/indexing.html#indexing-view-versus-copy\n",
      "  \n",
      "/home/kate/anaconda3/lib/python3.7/site-packages/ipykernel_launcher.py:3: SettingWithCopyWarning: \n",
      "A value is trying to be set on a copy of a slice from a DataFrame\n",
      "\n",
      "See the caveats in the documentation: http://pandas.pydata.org/pandas-docs/stable/indexing.html#indexing-view-versus-copy\n",
      "  This is separate from the ipykernel package so we can avoid doing imports until\n"
     ]
    }
   ],
   "source": [
    "# заменим пустые значения в одном листе, заполненными значениями с другого -_____________________-\n",
    "df3['Fasecas          Р6'][df3['Fasecas            Р12'].notna()]=df3['Fasecas            Р12'][df3['Fasecas            Р12'].notna()]\n",
    "df3['Fasecas          Р6'][df3['Fasecas            Р24'].notna()]=df3['Fasecas            Р24'][df3['Fasecas            Р24'].notna()]"
   ]
  },
  {
   "cell_type": "code",
   "execution_count": 28,
   "metadata": {},
   "outputs": [
    {
     "name": "stderr",
     "output_type": "stream",
     "text": [
      "/home/kate/anaconda3/lib/python3.7/site-packages/pandas/core/indexing.py:189: SettingWithCopyWarning: \n",
      "A value is trying to be set on a copy of a slice from a DataFrame\n",
      "\n",
      "See the caveats in the documentation: http://pandas.pydata.org/pandas-docs/stable/indexing.html#indexing-view-versus-copy\n",
      "  self._setitem_with_indexer(indexer, value)\n"
     ]
    }
   ],
   "source": [
    "# добавим ещё данных в таблицу\n",
    "df1['Объём очага см3']=''\n",
    "df1['Fasecas']=''\n",
    "for i in range(0, len(df1)):\n",
    "    #print (i,df3['ФИО'].iloc[i])\n",
    "    #print (len(df[df['ФИО']==df3['ФИО'].iloc[i]]))\n",
    "    try:\n",
    "        df1['Объём очага см3'].iloc[i]=int(np.asarray(df3['объем очага см3             Р3'][df3['ФИО']==df1['ФИО'].iloc[i]]))\n",
    "        df1['Fasecas'].iloc[i]=int(np.asarray(df3['Fasecas             Р3'][df3['ФИО']==df1['ФИО'].iloc[i]]))\n",
    "    except:\n",
    "        pass\n",
    "    \n",
    "df1['Fasecas']=pd.to_numeric(df1['Fasecas'])\n",
    "df1['Fasecas']=pd.to_numeric(df1['Fasecas'])"
   ]
  },
  {
   "cell_type": "code",
   "execution_count": 30,
   "metadata": {},
   "outputs": [
    {
     "data": {
      "text/plain": [
       "0    26\n",
       "1    47\n",
       "2    21\n",
       "3    71\n",
       "4      \n",
       "Name: Объём очага см3, dtype: object"
      ]
     },
     "execution_count": 30,
     "metadata": {},
     "output_type": "execute_result"
    }
   ],
   "source": [
    "# не хватает данных у 17 пациентов из 51\n",
    "df1['Объём очага см3'].head()"
   ]
  },
  {
   "cell_type": "markdown",
   "metadata": {},
   "source": [
    "### Creating the test dataset"
   ]
  },
  {
   "cell_type": "code",
   "execution_count": 32,
   "metadata": {},
   "outputs": [
    {
     "data": {
      "text/plain": [
       "0    2.0\n",
       "1    1.0\n",
       "2    1.0\n",
       "3    1.0\n",
       "4    1.0\n",
       "Name: ПОЛ, dtype: float64"
      ]
     },
     "execution_count": 32,
     "metadata": {},
     "output_type": "execute_result"
    }
   ],
   "source": [
    "# врачи не очень умеют вводить значения 0,1. Поэтому тут везде стоят 1,2. Иногда 4,5. Поэтому, я пробегаюсь по списку бинарных переменных и их энкожу\n",
    "\n",
    "df1['ПОЛ'].head()"
   ]
  },
  {
   "cell_type": "code",
   "execution_count": 34,
   "metadata": {},
   "outputs": [],
   "source": [
    "# комбинированные неречевые нарушения ОНМК\n",
    "\n",
    "demogr_=['ПОЛ','ВОЗРАСТ ','Продолжительность образования  (годы)']\n",
    "\n",
    "anamnez_=['Метобол с-м','Нарушение угл обмена','СД','Тяжесть АГ в анамнезе','Длительность АГ ','ТИА','КУРЕНИЕ','АЛКОГОЛЬ','Неревматическая фибрилляция предсердий (МКБ I48)','Другие нарушение сердечного ритма','ЗАБОЛЕ-ВАНИЯ СЕРДЦА','Количество потенциальных источников кардиогенной эмболии ','ИМТ','ОЖИРЕНИЕ','Низкая физическая активность ','ХроничскийСтресс','Количество НФР ','Общее Количествово ФР']\n",
    "\n",
    "stroke_severity_=['Объём очага см3',' АТ МАГ','Дис липидемия','ПВИ','ГТИ','Двигательные нарушения ОНМК','логопед занятия ОНМК','СТЛ','ЛТЛ','NIHSS     1 сутки','NIHSS    21 сутки ','Bаrtеl      21 сутки','Renk 21 сутки']\n",
    "\n",
    "stroke_rehab_=['ИМР поступление ЦПРиН ','NIHSS  поступл ЦПРиН ','M-Ash рука (поступление) ЦПРиН  ','M-Ash нога (поступление) ЦПРиН ','Вейс рука (поступление) ЦПРиН ','Вейс нога (поступление) ЦПРиН ','Индекс Хаузера ЦПРиН ','Индекс Холдена ЦПРиН ','Bаrtеl      поступление ЦПРиН ','Псевдобульбарный с-м ЦПРиН ','Пирамидный       с-м','ИАШОД10 ЦПРиН ','Симптомы орального автоматизма','Поза Вернике-Манна']\n",
    "\n",
    "targets_=['Renk (выписка) ЦПРиН ','Renk (поступление) ЦПРиН ','NIHSS        выписка  ЦПРиН ','Нейродинамика 1','Нейродинамика 2','Эксперссивная речь 1','Эксперссивная речь 2','Импрессивная речь 1','Импрессивная речь 2','афазия/дизартрия 1 (ст. выраженности)','афазия/дизартрия  2 (ст. выраженности)']"
   ]
  },
  {
   "cell_type": "code",
   "execution_count": 36,
   "metadata": {},
   "outputs": [],
   "source": [
    "# это вот просто особенности датасета, которые постоянно всплывают\n",
    "\n",
    "df1=df1.replace('4,5', 4.5)\n",
    "df1=df1.replace('17/607;17/671 21.04.20+O19:AC2017-05.06.2017', np.nan)\n",
    "df1=df1.replace('на момент обследования переведен в ГКБ№ 13', np.nan)\n",
    "df1=df1.replace('на момент обследования переведен в ГКБ№ 13', np.nan)\n",
    "df_full=df1[demogr_+anamnez_+stroke_severity_+stroke_rehab_]\n",
    "for i in df_full.columns[df_full.dtypes==object]:\n",
    "    df1[i]=pd.to_numeric(df1[i])"
   ]
  },
  {
   "cell_type": "code",
   "execution_count": 37,
   "metadata": {},
   "outputs": [],
   "source": [
    "def replace_binary(X, temp_list):\n",
    "    for i in temp_list:\n",
    "        \n",
    "            X[i]=X[i].replace(3, 2)\n",
    "            X[i]=X[i].replace(4, 2)\n",
    "            X[i]=X[i].replace(5, 2)\n",
    "            X[i]=X[i].replace(6, 2)\n",
    "            X[i]=X[i].replace(7, 2)\n",
    "     \n",
    "            X[i]=X[i].replace(1, 0)\n",
    "            X[i]=X[i].replace(2, 1)\n",
    "            \n",
    "            print(i, X[i].value_counts())\n",
    "            \n",
    "    return (X)"
   ]
  },
  {
   "cell_type": "code",
   "execution_count": 38,
   "metadata": {},
   "outputs": [],
   "source": [
    "# проверка категориальных переменных в БД\n",
    "def binary_checkout (X,temp_list=demogr_+stroke_rehab_+anamnez_+stroke_severity_):\n",
    "    list_=[]\n",
    "    for i in temp_list:\n",
    "        #print(i)\n",
    "        len_=len(X[i].value_counts())\n",
    "        if len_ <4:\n",
    "            print (i, len(X[i].value_counts()))\n",
    "            list_+=[i]\n",
    "            print(X[i].value_counts())\n",
    "    return(list_)"
   ]
  },
  {
   "cell_type": "code",
   "execution_count": 39,
   "metadata": {
    "scrolled": true
   },
   "outputs": [
    {
     "name": "stdout",
     "output_type": "stream",
     "text": [
      "ПОЛ 2\n",
      "1.0    26\n",
      "2.0    25\n",
      "Name: ПОЛ, dtype: int64\n",
      "Псевдобульбарный с-м ЦПРиН  3\n",
      "2.0    31\n",
      "1.0    18\n",
      "3.0     1\n",
      "Name: Псевдобульбарный с-м ЦПРиН , dtype: int64\n",
      "Симптомы орального автоматизма 3\n",
      "2.0    41\n",
      "1.0     9\n",
      "3.0     1\n",
      "Name: Симптомы орального автоматизма, dtype: int64\n",
      "Поза Вернике-Манна 2\n",
      "1.0    35\n",
      "2.0    15\n",
      "Name: Поза Вернике-Манна, dtype: int64\n",
      "Метобол с-м 2\n",
      "1.0    40\n",
      "2.0    10\n",
      "Name: Метобол с-м, dtype: int64\n",
      "Нарушение угл обмена 3\n",
      "1.0    24\n",
      "4.0    15\n",
      "2.0    12\n",
      "Name: Нарушение угл обмена, dtype: int64\n",
      "СД 3\n",
      "1.0    34\n",
      "2.0    13\n",
      "3.0     1\n",
      "Name: СД, dtype: int64\n",
      "ТИА 2\n",
      "1.0    47\n",
      "2.0     4\n",
      "Name: ТИА, dtype: int64\n",
      "КУРЕНИЕ 2\n",
      "2.0    31\n",
      "1.0    20\n",
      "Name: КУРЕНИЕ, dtype: int64\n",
      "АЛКОГОЛЬ 2\n",
      "1.0    38\n",
      "2.0    12\n",
      "Name: АЛКОГОЛЬ, dtype: int64\n",
      "Неревматическая фибрилляция предсердий (МКБ I48) 2\n",
      "1.0    39\n",
      "2.0    12\n",
      "Name: Неревматическая фибрилляция предсердий (МКБ I48), dtype: int64\n",
      "Другие нарушение сердечного ритма 2\n",
      "1.0    43\n",
      "2.0     8\n",
      "Name: Другие нарушение сердечного ритма, dtype: int64\n",
      "Низкая физическая активность  2\n",
      "2.0    40\n",
      "1.0    11\n",
      "Name: Низкая физическая активность , dtype: int64\n",
      "ХроничскийСтресс 2\n",
      "1.0    25\n",
      "2.0    22\n",
      "Name: ХроничскийСтресс, dtype: int64\n",
      "Дис липидемия 2\n",
      "2.0    49\n",
      "1.0     2\n",
      "Name: Дис липидемия, dtype: int64\n",
      "ГТИ 2\n",
      "1.0    42\n",
      "2.0     9\n",
      "Name: ГТИ, dtype: int64\n",
      "Двигательные нарушения ОНМК 3\n",
      "2.0    45\n",
      "1.0     5\n",
      "6.0     1\n",
      "Name: Двигательные нарушения ОНМК, dtype: int64\n",
      "логопед занятия ОНМК 2\n",
      "2.0    27\n",
      "1.0    24\n",
      "Name: логопед занятия ОНМК, dtype: int64\n",
      "СТЛ 2\n",
      "1.0    42\n",
      "2.0     9\n",
      "Name: СТЛ, dtype: int64\n",
      "ЛТЛ 2\n",
      "1.0    48\n",
      "2.0     3\n",
      "Name: ЛТЛ, dtype: int64\n"
     ]
    }
   ],
   "source": [
    "temp_list_=binary_checkout(df_full)"
   ]
  },
  {
   "cell_type": "code",
   "execution_count": 40,
   "metadata": {},
   "outputs": [],
   "source": [
    "temp_list_1=['ПОЛ',\n",
    " 'Псевдобульбарный с-м ЦПРиН ',\n",
    " 'Симптомы орального автоматизма',\n",
    " 'Поза Вернике-Манна',\n",
    " 'Метобол с-м',\n",
    " 'Нарушение угл обмена',\n",
    " 'СД',\n",
    " 'ТИА',\n",
    " 'КУРЕНИЕ',\n",
    " 'АЛКОГОЛЬ',\n",
    " 'Неревматическая фибрилляция предсердий (МКБ I48)',\n",
    " 'Другие нарушение сердечного ритма',\n",
    " 'Низкая физическая активность ',\n",
    " 'ХроничскийСтресс',\n",
    " 'Дис липидемия',\n",
    " 'ГТИ',\n",
    " 'Двигательные нарушения ОНМК',\n",
    " 'логопед занятия ОНМК',\n",
    " 'СТЛ',\n",
    " 'ЛТЛ']"
   ]
  },
  {
   "cell_type": "code",
   "execution_count": 41,
   "metadata": {
    "scrolled": true
   },
   "outputs": [
    {
     "name": "stderr",
     "output_type": "stream",
     "text": [
      "/home/kate/anaconda3/lib/python3.7/site-packages/ipykernel_launcher.py:5: SettingWithCopyWarning: \n",
      "A value is trying to be set on a copy of a slice from a DataFrame.\n",
      "Try using .loc[row_indexer,col_indexer] = value instead\n",
      "\n",
      "See the caveats in the documentation: http://pandas.pydata.org/pandas-docs/stable/indexing.html#indexing-view-versus-copy\n",
      "  \"\"\"\n",
      "/home/kate/anaconda3/lib/python3.7/site-packages/ipykernel_launcher.py:6: SettingWithCopyWarning: \n",
      "A value is trying to be set on a copy of a slice from a DataFrame.\n",
      "Try using .loc[row_indexer,col_indexer] = value instead\n",
      "\n",
      "See the caveats in the documentation: http://pandas.pydata.org/pandas-docs/stable/indexing.html#indexing-view-versus-copy\n",
      "  \n",
      "/home/kate/anaconda3/lib/python3.7/site-packages/ipykernel_launcher.py:7: SettingWithCopyWarning: \n",
      "A value is trying to be set on a copy of a slice from a DataFrame.\n",
      "Try using .loc[row_indexer,col_indexer] = value instead\n",
      "\n",
      "See the caveats in the documentation: http://pandas.pydata.org/pandas-docs/stable/indexing.html#indexing-view-versus-copy\n",
      "  import sys\n",
      "/home/kate/anaconda3/lib/python3.7/site-packages/ipykernel_launcher.py:8: SettingWithCopyWarning: \n",
      "A value is trying to be set on a copy of a slice from a DataFrame.\n",
      "Try using .loc[row_indexer,col_indexer] = value instead\n",
      "\n",
      "See the caveats in the documentation: http://pandas.pydata.org/pandas-docs/stable/indexing.html#indexing-view-versus-copy\n",
      "  \n",
      "/home/kate/anaconda3/lib/python3.7/site-packages/ipykernel_launcher.py:9: SettingWithCopyWarning: \n",
      "A value is trying to be set on a copy of a slice from a DataFrame.\n",
      "Try using .loc[row_indexer,col_indexer] = value instead\n",
      "\n",
      "See the caveats in the documentation: http://pandas.pydata.org/pandas-docs/stable/indexing.html#indexing-view-versus-copy\n",
      "  if __name__ == '__main__':\n",
      "/home/kate/anaconda3/lib/python3.7/site-packages/ipykernel_launcher.py:11: SettingWithCopyWarning: \n",
      "A value is trying to be set on a copy of a slice from a DataFrame.\n",
      "Try using .loc[row_indexer,col_indexer] = value instead\n",
      "\n",
      "See the caveats in the documentation: http://pandas.pydata.org/pandas-docs/stable/indexing.html#indexing-view-versus-copy\n",
      "  # This is added back by InteractiveShellApp.init_path()\n",
      "/home/kate/anaconda3/lib/python3.7/site-packages/ipykernel_launcher.py:12: SettingWithCopyWarning: \n",
      "A value is trying to be set on a copy of a slice from a DataFrame.\n",
      "Try using .loc[row_indexer,col_indexer] = value instead\n",
      "\n",
      "See the caveats in the documentation: http://pandas.pydata.org/pandas-docs/stable/indexing.html#indexing-view-versus-copy\n",
      "  if sys.path[0] == '':\n"
     ]
    },
    {
     "name": "stdout",
     "output_type": "stream",
     "text": [
      "ПОЛ 0.0    26\n",
      "1.0    25\n",
      "Name: ПОЛ, dtype: int64\n",
      "Псевдобульбарный с-м ЦПРиН  1.0    32\n",
      "0.0    18\n",
      "Name: Псевдобульбарный с-м ЦПРиН , dtype: int64\n",
      "Симптомы орального автоматизма 1.0    42\n",
      "0.0     9\n",
      "Name: Симптомы орального автоматизма, dtype: int64\n",
      "Поза Вернике-Манна 0.0    35\n",
      "1.0    15\n",
      "Name: Поза Вернике-Манна, dtype: int64\n",
      "Метобол с-м 0.0    40\n",
      "1.0    10\n",
      "Name: Метобол с-м, dtype: int64\n",
      "Нарушение угл обмена 1.0    27\n",
      "0.0    24\n",
      "Name: Нарушение угл обмена, dtype: int64\n",
      "СД 0.0    34\n",
      "1.0    14\n",
      "Name: СД, dtype: int64\n",
      "ТИА 0.0    47\n",
      "1.0     4\n",
      "Name: ТИА, dtype: int64\n",
      "КУРЕНИЕ 1.0    31\n",
      "0.0    20\n",
      "Name: КУРЕНИЕ, dtype: int64\n",
      "АЛКОГОЛЬ 0.0    38\n",
      "1.0    12\n",
      "Name: АЛКОГОЛЬ, dtype: int64\n",
      "Неревматическая фибрилляция предсердий (МКБ I48) 0.0    39\n",
      "1.0    12\n",
      "Name: Неревматическая фибрилляция предсердий (МКБ I48), dtype: int64\n",
      "Другие нарушение сердечного ритма 0.0    43\n",
      "1.0     8\n",
      "Name: Другие нарушение сердечного ритма, dtype: int64\n",
      "Низкая физическая активность  1.0    40\n",
      "0.0    11\n",
      "Name: Низкая физическая активность , dtype: int64\n",
      "ХроничскийСтресс 0.0    25\n",
      "1.0    22\n",
      "Name: ХроничскийСтресс, dtype: int64\n",
      "Дис липидемия 1.0    49\n",
      "0.0     2\n",
      "Name: Дис липидемия, dtype: int64\n",
      "ГТИ 0.0    42\n",
      "1.0     9\n",
      "Name: ГТИ, dtype: int64\n",
      "Двигательные нарушения ОНМК 1.0    46\n",
      "0.0     5\n",
      "Name: Двигательные нарушения ОНМК, dtype: int64\n",
      "логопед занятия ОНМК 1.0    27\n",
      "0.0    24\n",
      "Name: логопед занятия ОНМК, dtype: int64\n",
      "СТЛ 0.0    42\n",
      "1.0     9\n",
      "Name: СТЛ, dtype: int64\n",
      "ЛТЛ 0.0    48\n",
      "1.0     3\n",
      "Name: ЛТЛ, dtype: int64\n"
     ]
    }
   ],
   "source": [
    "df_full=replace_binary(df_full,temp_list=temp_list_1)"
   ]
  },
  {
   "cell_type": "code",
   "execution_count": 64,
   "metadata": {},
   "outputs": [],
   "source": [
    "# тоже особенности датасета\n",
    "df_full[' АТ МАГ']=df_full[' АТ МАГ'].replace(5,4)\n",
    "\n",
    "# просто датасет который я заслужила\n",
    "df_full=df_full.replace('на момент обследования переведен в ГКБ№ 13', np.nan)\n",
    "\n",
    "#на всякий случай\n",
    "for i in df_full.columns[df_full.dtypes==object]:\n",
    "    df_full[i]=pd.to_numeric(df_full[i])"
   ]
  },
  {
   "cell_type": "code",
   "execution_count": 65,
   "metadata": {
    "collapsed": true
   },
   "outputs": [
    {
     "ename": "KeyError",
     "evalue": "'ПВИ'",
     "output_type": "error",
     "traceback": [
      "\u001b[0;31m---------------------------------------------------------------------------\u001b[0m",
      "\u001b[0;31mKeyError\u001b[0m                                  Traceback (most recent call last)",
      "\u001b[0;32m~/anaconda3/lib/python3.7/site-packages/pandas/core/indexes/base.py\u001b[0m in \u001b[0;36mget_loc\u001b[0;34m(self, key, method, tolerance)\u001b[0m\n\u001b[1;32m   3077\u001b[0m             \u001b[0;32mtry\u001b[0m\u001b[0;34m:\u001b[0m\u001b[0;34m\u001b[0m\u001b[0m\n\u001b[0;32m-> 3078\u001b[0;31m                 \u001b[0;32mreturn\u001b[0m \u001b[0mself\u001b[0m\u001b[0;34m.\u001b[0m\u001b[0m_engine\u001b[0m\u001b[0;34m.\u001b[0m\u001b[0mget_loc\u001b[0m\u001b[0;34m(\u001b[0m\u001b[0mkey\u001b[0m\u001b[0;34m)\u001b[0m\u001b[0;34m\u001b[0m\u001b[0m\n\u001b[0m\u001b[1;32m   3079\u001b[0m             \u001b[0;32mexcept\u001b[0m \u001b[0mKeyError\u001b[0m\u001b[0;34m:\u001b[0m\u001b[0;34m\u001b[0m\u001b[0m\n",
      "\u001b[0;32mpandas/_libs/index.pyx\u001b[0m in \u001b[0;36mpandas._libs.index.IndexEngine.get_loc\u001b[0;34m()\u001b[0m\n",
      "\u001b[0;32mpandas/_libs/index.pyx\u001b[0m in \u001b[0;36mpandas._libs.index.IndexEngine.get_loc\u001b[0;34m()\u001b[0m\n",
      "\u001b[0;32mpandas/_libs/hashtable_class_helper.pxi\u001b[0m in \u001b[0;36mpandas._libs.hashtable.PyObjectHashTable.get_item\u001b[0;34m()\u001b[0m\n",
      "\u001b[0;32mpandas/_libs/hashtable_class_helper.pxi\u001b[0m in \u001b[0;36mpandas._libs.hashtable.PyObjectHashTable.get_item\u001b[0;34m()\u001b[0m\n",
      "\u001b[0;31mKeyError\u001b[0m: 'ПВИ'",
      "\nDuring handling of the above exception, another exception occurred:\n",
      "\u001b[0;31mKeyError\u001b[0m                                  Traceback (most recent call last)",
      "\u001b[0;32m<ipython-input-65-db32854c6a10>\u001b[0m in \u001b[0;36m<module>\u001b[0;34m()\u001b[0m\n\u001b[1;32m      1\u001b[0m \u001b[0;31m# категориальная переменная, заменяем\u001b[0m\u001b[0;34m\u001b[0m\u001b[0;34m\u001b[0m\u001b[0m\n\u001b[0;32m----> 2\u001b[0;31m \u001b[0mdf_full\u001b[0m\u001b[0;34m=\u001b[0m\u001b[0mpd\u001b[0m\u001b[0;34m.\u001b[0m\u001b[0mconcat\u001b[0m\u001b[0;34m(\u001b[0m\u001b[0;34m[\u001b[0m\u001b[0mdf_full\u001b[0m\u001b[0;34m,\u001b[0m\u001b[0mpd\u001b[0m\u001b[0;34m.\u001b[0m\u001b[0mget_dummies\u001b[0m\u001b[0;34m(\u001b[0m\u001b[0mdf_full\u001b[0m\u001b[0;34m[\u001b[0m\u001b[0;34m'ПВИ'\u001b[0m\u001b[0;34m]\u001b[0m\u001b[0;34m,\u001b[0m\u001b[0mprefix\u001b[0m\u001b[0;34m=\u001b[0m\u001b[0;34m'ПВИ'\u001b[0m\u001b[0;34m)\u001b[0m\u001b[0;34m]\u001b[0m\u001b[0;34m,\u001b[0m \u001b[0maxis\u001b[0m\u001b[0;34m=\u001b[0m\u001b[0;36m1\u001b[0m\u001b[0;34m)\u001b[0m\u001b[0;34m\u001b[0m\u001b[0m\n\u001b[0m\u001b[1;32m      3\u001b[0m \u001b[0mdf_full\u001b[0m\u001b[0;34m.\u001b[0m\u001b[0mdrop\u001b[0m\u001b[0;34m(\u001b[0m\u001b[0;34m[\u001b[0m\u001b[0;34m'ПВИ'\u001b[0m\u001b[0;34m]\u001b[0m\u001b[0;34m,\u001b[0m \u001b[0maxis\u001b[0m\u001b[0;34m=\u001b[0m\u001b[0;36m1\u001b[0m\u001b[0;34m,\u001b[0m \u001b[0minplace\u001b[0m\u001b[0;34m=\u001b[0m\u001b[0;32mTrue\u001b[0m\u001b[0;34m)\u001b[0m\u001b[0;34m\u001b[0m\u001b[0m\n",
      "\u001b[0;32m~/anaconda3/lib/python3.7/site-packages/pandas/core/frame.py\u001b[0m in \u001b[0;36m__getitem__\u001b[0;34m(self, key)\u001b[0m\n\u001b[1;32m   2686\u001b[0m             \u001b[0;32mreturn\u001b[0m \u001b[0mself\u001b[0m\u001b[0;34m.\u001b[0m\u001b[0m_getitem_multilevel\u001b[0m\u001b[0;34m(\u001b[0m\u001b[0mkey\u001b[0m\u001b[0;34m)\u001b[0m\u001b[0;34m\u001b[0m\u001b[0m\n\u001b[1;32m   2687\u001b[0m         \u001b[0;32melse\u001b[0m\u001b[0;34m:\u001b[0m\u001b[0;34m\u001b[0m\u001b[0m\n\u001b[0;32m-> 2688\u001b[0;31m             \u001b[0;32mreturn\u001b[0m \u001b[0mself\u001b[0m\u001b[0;34m.\u001b[0m\u001b[0m_getitem_column\u001b[0m\u001b[0;34m(\u001b[0m\u001b[0mkey\u001b[0m\u001b[0;34m)\u001b[0m\u001b[0;34m\u001b[0m\u001b[0m\n\u001b[0m\u001b[1;32m   2689\u001b[0m \u001b[0;34m\u001b[0m\u001b[0m\n\u001b[1;32m   2690\u001b[0m     \u001b[0;32mdef\u001b[0m \u001b[0m_getitem_column\u001b[0m\u001b[0;34m(\u001b[0m\u001b[0mself\u001b[0m\u001b[0;34m,\u001b[0m \u001b[0mkey\u001b[0m\u001b[0;34m)\u001b[0m\u001b[0;34m:\u001b[0m\u001b[0;34m\u001b[0m\u001b[0m\n",
      "\u001b[0;32m~/anaconda3/lib/python3.7/site-packages/pandas/core/frame.py\u001b[0m in \u001b[0;36m_getitem_column\u001b[0;34m(self, key)\u001b[0m\n\u001b[1;32m   2693\u001b[0m         \u001b[0;31m# get column\u001b[0m\u001b[0;34m\u001b[0m\u001b[0;34m\u001b[0m\u001b[0m\n\u001b[1;32m   2694\u001b[0m         \u001b[0;32mif\u001b[0m \u001b[0mself\u001b[0m\u001b[0;34m.\u001b[0m\u001b[0mcolumns\u001b[0m\u001b[0;34m.\u001b[0m\u001b[0mis_unique\u001b[0m\u001b[0;34m:\u001b[0m\u001b[0;34m\u001b[0m\u001b[0m\n\u001b[0;32m-> 2695\u001b[0;31m             \u001b[0;32mreturn\u001b[0m \u001b[0mself\u001b[0m\u001b[0;34m.\u001b[0m\u001b[0m_get_item_cache\u001b[0m\u001b[0;34m(\u001b[0m\u001b[0mkey\u001b[0m\u001b[0;34m)\u001b[0m\u001b[0;34m\u001b[0m\u001b[0m\n\u001b[0m\u001b[1;32m   2696\u001b[0m \u001b[0;34m\u001b[0m\u001b[0m\n\u001b[1;32m   2697\u001b[0m         \u001b[0;31m# duplicate columns & possible reduce dimensionality\u001b[0m\u001b[0;34m\u001b[0m\u001b[0;34m\u001b[0m\u001b[0m\n",
      "\u001b[0;32m~/anaconda3/lib/python3.7/site-packages/pandas/core/generic.py\u001b[0m in \u001b[0;36m_get_item_cache\u001b[0;34m(self, item)\u001b[0m\n\u001b[1;32m   2487\u001b[0m         \u001b[0mres\u001b[0m \u001b[0;34m=\u001b[0m \u001b[0mcache\u001b[0m\u001b[0;34m.\u001b[0m\u001b[0mget\u001b[0m\u001b[0;34m(\u001b[0m\u001b[0mitem\u001b[0m\u001b[0;34m)\u001b[0m\u001b[0;34m\u001b[0m\u001b[0m\n\u001b[1;32m   2488\u001b[0m         \u001b[0;32mif\u001b[0m \u001b[0mres\u001b[0m \u001b[0;32mis\u001b[0m \u001b[0;32mNone\u001b[0m\u001b[0;34m:\u001b[0m\u001b[0;34m\u001b[0m\u001b[0m\n\u001b[0;32m-> 2489\u001b[0;31m             \u001b[0mvalues\u001b[0m \u001b[0;34m=\u001b[0m \u001b[0mself\u001b[0m\u001b[0;34m.\u001b[0m\u001b[0m_data\u001b[0m\u001b[0;34m.\u001b[0m\u001b[0mget\u001b[0m\u001b[0;34m(\u001b[0m\u001b[0mitem\u001b[0m\u001b[0;34m)\u001b[0m\u001b[0;34m\u001b[0m\u001b[0m\n\u001b[0m\u001b[1;32m   2490\u001b[0m             \u001b[0mres\u001b[0m \u001b[0;34m=\u001b[0m \u001b[0mself\u001b[0m\u001b[0;34m.\u001b[0m\u001b[0m_box_item_values\u001b[0m\u001b[0;34m(\u001b[0m\u001b[0mitem\u001b[0m\u001b[0;34m,\u001b[0m \u001b[0mvalues\u001b[0m\u001b[0;34m)\u001b[0m\u001b[0;34m\u001b[0m\u001b[0m\n\u001b[1;32m   2491\u001b[0m             \u001b[0mcache\u001b[0m\u001b[0;34m[\u001b[0m\u001b[0mitem\u001b[0m\u001b[0;34m]\u001b[0m \u001b[0;34m=\u001b[0m \u001b[0mres\u001b[0m\u001b[0;34m\u001b[0m\u001b[0m\n",
      "\u001b[0;32m~/anaconda3/lib/python3.7/site-packages/pandas/core/internals.py\u001b[0m in \u001b[0;36mget\u001b[0;34m(self, item, fastpath)\u001b[0m\n\u001b[1;32m   4113\u001b[0m \u001b[0;34m\u001b[0m\u001b[0m\n\u001b[1;32m   4114\u001b[0m             \u001b[0;32mif\u001b[0m \u001b[0;32mnot\u001b[0m \u001b[0misna\u001b[0m\u001b[0;34m(\u001b[0m\u001b[0mitem\u001b[0m\u001b[0;34m)\u001b[0m\u001b[0;34m:\u001b[0m\u001b[0;34m\u001b[0m\u001b[0m\n\u001b[0;32m-> 4115\u001b[0;31m                 \u001b[0mloc\u001b[0m \u001b[0;34m=\u001b[0m \u001b[0mself\u001b[0m\u001b[0;34m.\u001b[0m\u001b[0mitems\u001b[0m\u001b[0;34m.\u001b[0m\u001b[0mget_loc\u001b[0m\u001b[0;34m(\u001b[0m\u001b[0mitem\u001b[0m\u001b[0;34m)\u001b[0m\u001b[0;34m\u001b[0m\u001b[0m\n\u001b[0m\u001b[1;32m   4116\u001b[0m             \u001b[0;32melse\u001b[0m\u001b[0;34m:\u001b[0m\u001b[0;34m\u001b[0m\u001b[0m\n\u001b[1;32m   4117\u001b[0m                 \u001b[0mindexer\u001b[0m \u001b[0;34m=\u001b[0m \u001b[0mnp\u001b[0m\u001b[0;34m.\u001b[0m\u001b[0marange\u001b[0m\u001b[0;34m(\u001b[0m\u001b[0mlen\u001b[0m\u001b[0;34m(\u001b[0m\u001b[0mself\u001b[0m\u001b[0;34m.\u001b[0m\u001b[0mitems\u001b[0m\u001b[0;34m)\u001b[0m\u001b[0;34m)\u001b[0m\u001b[0;34m[\u001b[0m\u001b[0misna\u001b[0m\u001b[0;34m(\u001b[0m\u001b[0mself\u001b[0m\u001b[0;34m.\u001b[0m\u001b[0mitems\u001b[0m\u001b[0;34m)\u001b[0m\u001b[0;34m]\u001b[0m\u001b[0;34m\u001b[0m\u001b[0m\n",
      "\u001b[0;32m~/anaconda3/lib/python3.7/site-packages/pandas/core/indexes/base.py\u001b[0m in \u001b[0;36mget_loc\u001b[0;34m(self, key, method, tolerance)\u001b[0m\n\u001b[1;32m   3078\u001b[0m                 \u001b[0;32mreturn\u001b[0m \u001b[0mself\u001b[0m\u001b[0;34m.\u001b[0m\u001b[0m_engine\u001b[0m\u001b[0;34m.\u001b[0m\u001b[0mget_loc\u001b[0m\u001b[0;34m(\u001b[0m\u001b[0mkey\u001b[0m\u001b[0;34m)\u001b[0m\u001b[0;34m\u001b[0m\u001b[0m\n\u001b[1;32m   3079\u001b[0m             \u001b[0;32mexcept\u001b[0m \u001b[0mKeyError\u001b[0m\u001b[0;34m:\u001b[0m\u001b[0;34m\u001b[0m\u001b[0m\n\u001b[0;32m-> 3080\u001b[0;31m                 \u001b[0;32mreturn\u001b[0m \u001b[0mself\u001b[0m\u001b[0;34m.\u001b[0m\u001b[0m_engine\u001b[0m\u001b[0;34m.\u001b[0m\u001b[0mget_loc\u001b[0m\u001b[0;34m(\u001b[0m\u001b[0mself\u001b[0m\u001b[0;34m.\u001b[0m\u001b[0m_maybe_cast_indexer\u001b[0m\u001b[0;34m(\u001b[0m\u001b[0mkey\u001b[0m\u001b[0;34m)\u001b[0m\u001b[0;34m)\u001b[0m\u001b[0;34m\u001b[0m\u001b[0m\n\u001b[0m\u001b[1;32m   3081\u001b[0m \u001b[0;34m\u001b[0m\u001b[0m\n\u001b[1;32m   3082\u001b[0m         \u001b[0mindexer\u001b[0m \u001b[0;34m=\u001b[0m \u001b[0mself\u001b[0m\u001b[0;34m.\u001b[0m\u001b[0mget_indexer\u001b[0m\u001b[0;34m(\u001b[0m\u001b[0;34m[\u001b[0m\u001b[0mkey\u001b[0m\u001b[0;34m]\u001b[0m\u001b[0;34m,\u001b[0m \u001b[0mmethod\u001b[0m\u001b[0;34m=\u001b[0m\u001b[0mmethod\u001b[0m\u001b[0;34m,\u001b[0m \u001b[0mtolerance\u001b[0m\u001b[0;34m=\u001b[0m\u001b[0mtolerance\u001b[0m\u001b[0;34m)\u001b[0m\u001b[0;34m\u001b[0m\u001b[0m\n",
      "\u001b[0;32mpandas/_libs/index.pyx\u001b[0m in \u001b[0;36mpandas._libs.index.IndexEngine.get_loc\u001b[0;34m()\u001b[0m\n",
      "\u001b[0;32mpandas/_libs/index.pyx\u001b[0m in \u001b[0;36mpandas._libs.index.IndexEngine.get_loc\u001b[0;34m()\u001b[0m\n",
      "\u001b[0;32mpandas/_libs/hashtable_class_helper.pxi\u001b[0m in \u001b[0;36mpandas._libs.hashtable.PyObjectHashTable.get_item\u001b[0;34m()\u001b[0m\n",
      "\u001b[0;32mpandas/_libs/hashtable_class_helper.pxi\u001b[0m in \u001b[0;36mpandas._libs.hashtable.PyObjectHashTable.get_item\u001b[0;34m()\u001b[0m\n",
      "\u001b[0;31mKeyError\u001b[0m: 'ПВИ'"
     ]
    }
   ],
   "source": [
    "# категориальная переменная, заменяем\n",
    "df_full=pd.concat([df_full,pd.get_dummies(df_full['ПВИ'],prefix='ПВИ')], axis=1)\n",
    "df_full.drop(['ПВИ'], axis=1, inplace=True)"
   ]
  },
  {
   "cell_type": "code",
   "execution_count": 66,
   "metadata": {},
   "outputs": [],
   "source": [
    "# сохраняем датасет\n",
    "df_full['target']=df2['Renk проверенный 12 мес ']\n",
    "df_full.to_csv('stroke_rehab_03.2019.csv')"
   ]
  }
 ],
 "metadata": {
  "kernelspec": {
   "display_name": "Python 3",
   "language": "python",
   "name": "python3"
  },
  "language_info": {
   "codemirror_mode": {
    "name": "ipython",
    "version": 3
   },
   "file_extension": ".py",
   "mimetype": "text/x-python",
   "name": "python",
   "nbconvert_exporter": "python",
   "pygments_lexer": "ipython3",
   "version": "3.6.7"
  }
 },
 "nbformat": 4,
 "nbformat_minor": 2
}
